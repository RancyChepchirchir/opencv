{
 "cells": [
  {
   "cell_type": "code",
   "execution_count": null,
   "metadata": {},
   "outputs": [],
   "source": [
    "https://analyticsindiamag.com/hands-on-guide-to-object-detection-using-yolo/"
   ]
  },
  {
   "cell_type": "code",
   "execution_count": null,
   "metadata": {},
   "outputs": [],
   "source": [
    "from imageai.Detection import ObjectDetection\n",
    "import os\n",
    "import time"
   ]
  },
  {
   "cell_type": "code",
   "execution_count": null,
   "metadata": {},
   "outputs": [],
   "source": [
    "#Current working directory\n",
    "exec_path = os.getcwd()"
   ]
  },
  {
   "cell_type": "code",
   "execution_count": null,
   "metadata": {},
   "outputs": [],
   "source": [
    "#Yolo\n",
    "yolo_obj = ObjectDetection()\n",
    "yolo_obj.setModelTypeAsYOLOv3()\n",
    "yolo_obj.setModelPath( os.path.join(exec_path , \"yolo.h5\"))\n",
    "yolo_obj.loadModel()"
   ]
  },
  {
   "cell_type": "code",
   "execution_count": null,
   "metadata": {},
   "outputs": [],
   "source": [
    "#Library for image\n",
    "from PIL import Image"
   ]
  },
  {
   "cell_type": "code",
   "execution_count": null,
   "metadata": {},
   "outputs": [],
   "source": [
    "#First Image\n",
    "Image.open(\"img1.jpg\")"
   ]
  },
  {
   "cell_type": "code",
   "execution_count": null,
   "metadata": {},
   "outputs": [],
   "source": [
    "#Detecting objects in the first image\n",
    "start = time.time()\n",
    "\n",
    "detections = yolo_obj.detectObjectsFromImage(input_image = os.path.join(exec_path , \"img1.jpg\"), output_image_path = os.path.join(exec_path , \"out_img1.jpg\"))\n",
    "\n",
    "print('sec',time.time() - start)\n",
    "\n",
    "for objects in detections:\n",
    "    print(objects[\"name\"] , \" : \" , objects[\"percentage_probability\"] )\n",
    "\n",
    "Image.open(\"out_img1.jpg\")\n"
   ]
  },
  {
   "cell_type": "code",
   "execution_count": null,
   "metadata": {},
   "outputs": [],
   "source": [
    "#Detecting objects in the second image\n",
    "start = time.time()\n",
    "\n",
    "detections = yolo_obj.detectObjectsFromImage(input_image = os.path.join(exec_path , \"img2.jpg\"), output_image_path = os.path.join(exec_path , \"out_img2.jpg\"))\n",
    "\n",
    "print('sec',time.time() - start)\n",
    "\n",
    "for objects in detections:\n",
    "    print(objects[\"name\"] , \" : \" , objects[\"percentage_probability\"] )\n",
    "\n",
    "Image.open(\"out_img2.jpg\")"
   ]
  }
 ],
 "metadata": {
  "kernelspec": {
   "display_name": "Python 3",
   "language": "python",
   "name": "python3"
  },
  "language_info": {
   "codemirror_mode": {
    "name": "ipython",
    "version": 3
   },
   "file_extension": ".py",
   "mimetype": "text/x-python",
   "name": "python",
   "nbconvert_exporter": "python",
   "pygments_lexer": "ipython3",
   "version": "3.7.3"
  }
 },
 "nbformat": 4,
 "nbformat_minor": 4
}
