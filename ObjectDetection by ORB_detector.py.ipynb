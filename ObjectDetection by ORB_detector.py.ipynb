{
 "cells": [
  {
   "cell_type": "code",
   "execution_count": null,
   "metadata": {},
   "outputs": [],
   "source": [
    "import cv2\n",
    "import numpy as np\n",
    "cv2.ocl.setUseOpenCL(False)\n",
    "\n",
    "class od_ORB(object):\n",
    "    \"\"\"\n",
    "    Object Detection using ORB (Oriented FAST and Rotated BRIEF)\n",
    "    \"\"\"\n",
    "\tdef __init__(self, original_image, template):\n",
    "\t\tself.original_image = original_image\n",
    "\t\tself.template = template\n",
    "\n",
    "\tdef detector(self):\n",
    "\t\t'''\n",
    "\t\tCompares original image with template and finds\n",
    "\t\tnumber of ORB matches\n",
    "\t\t'''\t\n",
    "\t\timg = cv2.cvtColor(self.original_image, cv2.COLOR_BGR2GRAY)\n",
    "\t\ttem = self.template\n",
    "\n",
    "\t\t# SIFT detector - 1000 keypoints, scale 1.2\n",
    "\t\torb = cv2.ORB_create(1000, 1.2)\n",
    "\n",
    "\t\t# get keypoints and discriptors (k,d) using sift\n",
    "\t\tk1, d1 = orb.detectAndCompute(img, None)\n",
    "\t\tk2, d2 = orb.detectAndCompute(tem, None)\n",
    "\n",
    "\t\t# Defining matcher for ORB\n",
    "\t\tmatcher = cv2.BFMatcher(cv2.NORM_HAMMING, crossCheck = True)\n",
    "\n",
    "\t\t# getting all matches \n",
    "\t\tmatches = matcher.match(d1, d2)\n",
    "\n",
    "\t\t# Save all matches - sort in ascending order\n",
    "\t\tmatches = sorted(matches, key=lambda val: val.distance)\n",
    "\n",
    "\t\treturn len(matches)"
   ]
  }
 ],
 "metadata": {
  "kernelspec": {
   "display_name": "Python 3",
   "language": "python",
   "name": "python3"
  },
  "language_info": {
   "codemirror_mode": {
    "name": "ipython",
    "version": 3
   },
   "file_extension": ".py",
   "mimetype": "text/x-python",
   "name": "python",
   "nbconvert_exporter": "python",
   "pygments_lexer": "ipython3",
   "version": "3.7.3"
  }
 },
 "nbformat": 4,
 "nbformat_minor": 4
}
