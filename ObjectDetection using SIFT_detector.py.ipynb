{
 "cells": [
  {
   "cell_type": "code",
   "execution_count": null,
   "metadata": {},
   "outputs": [],
   "source": [
    "import cv2\n",
    "import numpy as np\n",
    "\n",
    "class od_SIFT(object):\n",
    "\t'''\n",
    "    Object Detection using SIFT (Scale-Invariant Feature Transform)\n",
    "\t'''\n",
    "\tdef __init__(self, original_image, template):\n",
    "\t\tself.original_image = original_image\n",
    "\t\tself.template = template\n",
    "\n",
    "\tdef detector(self):\n",
    "\t\t'''\n",
    "\t\tCompares original image with template and finds\n",
    "\t\tnumber of SIFT matches\n",
    "\t\t'''\t\n",
    "\t\timg = cv2.cvtColor(self.original_image, cv2.COLOR_BGR2GRAY)\n",
    "\t\ttem = self.template\n",
    "\n",
    "\t\t# SIFT detector\n",
    "\t\tsift = cv2.xfeatures2d.SIFT_create()\n",
    "\n",
    "\t\t# get keypoints and discriptors (k,d) using sift\n",
    "\t\tk1, d1 = sift.detectAndCompute(img, None)\n",
    "\t\tk2, d2 = sift.detectAndCompute(tem, None)\n",
    "\n",
    "\t\t# flann matcher\n",
    "\t\tFLANN_INDEX_KDTREE = 0\n",
    "\t\tindex_param = dict(algorithm = FLANN_INDEX_KDTREE, trees = 3)\n",
    "\t\tsearch_param = dict(checks = 100)\n",
    "\n",
    "\t\tflann = cv2.FlannBasedMatcher(index_param, search_param)\n",
    "\t\t#d1, d2 = None, None\n",
    "\t\t\n",
    "\t\t# getting all matches using kNN\n",
    "\t\tmatches = flann.knnMatch(d1, d2, k = 2)\n",
    "\n",
    "\t\t# Save all matches - Lowe's ratio test\n",
    "\t\tgood_matches = []\n",
    "\t\tfor m,n in matches:\n",
    "\t\t\tif m.distance < (0.7 * n.distance):\n",
    "\t\t\t\tgood_matches.append(m)\n",
    "\n",
    "\n"
   ]
  }
 ],
 "metadata": {
  "kernelspec": {
   "display_name": "Python 3",
   "language": "python",
   "name": "python3"
  },
  "language_info": {
   "codemirror_mode": {
    "name": "ipython",
    "version": 3
   },
   "file_extension": ".py",
   "mimetype": "text/x-python",
   "name": "python",
   "nbconvert_exporter": "python",
   "pygments_lexer": "ipython3",
   "version": "3.7.3"
  }
 },
 "nbformat": 4,
 "nbformat_minor": 4
}
